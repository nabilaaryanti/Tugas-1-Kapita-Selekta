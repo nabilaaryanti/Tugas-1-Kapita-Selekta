{
  "nbformat": 4,
  "nbformat_minor": 0,
  "metadata": {
    "colab": {
      "name": "Crawling Data.ipynb",
      "provenance": [],
      "collapsed_sections": [],
      "mount_file_id": "1aayx5JGYSKPWUjd7MDIU9Sr0VaFvjDL5",
      "authorship_tag": "ABX9TyMTGSuGSQHxpL/Dr2kowlIK",
      "include_colab_link": true
    },
    "kernelspec": {
      "name": "python3",
      "display_name": "Python 3"
    },
    "language_info": {
      "name": "python"
    }
  },
  "cells": [
    {
      "cell_type": "markdown",
      "metadata": {
        "id": "view-in-github",
        "colab_type": "text"
      },
      "source": [
        "<a href=\"https://colab.research.google.com/github/nabilaaryanti/Twitter-data-processing/blob/main/Crawling_Data.ipynb\" target=\"_parent\"><img src=\"https://colab.research.google.com/assets/colab-badge.svg\" alt=\"Open In Colab\"/></a>"
      ]
    },
    {
      "cell_type": "markdown",
      "metadata": {
        "id": "7-7rpYwDf6hV"
      },
      "source": [
        "## Import Moduls"
      ]
    },
    {
      "cell_type": "code",
      "metadata": {
        "id": "zTaZy02V1XXJ",
        "colab": {
          "base_uri": "https://localhost:8080/"
        },
        "outputId": "589d2d99-7884-4f2c-ec94-9e014fbf7b80"
      },
      "source": [
        "!pip install unidecode twython tweepy beautifulsoup4 tika"
      ],
      "execution_count": null,
      "outputs": [
        {
          "output_type": "stream",
          "name": "stdout",
          "text": [
            "Collecting unidecode\n",
            "  Downloading Unidecode-1.3.2-py3-none-any.whl (235 kB)\n",
            "\u001b[?25l\r\u001b[K     |█▍                              | 10 kB 21.0 MB/s eta 0:00:01\r\u001b[K     |██▉                             | 20 kB 25.4 MB/s eta 0:00:01\r\u001b[K     |████▏                           | 30 kB 30.2 MB/s eta 0:00:01\r\u001b[K     |█████▋                          | 40 kB 26.7 MB/s eta 0:00:01\r\u001b[K     |███████                         | 51 kB 12.7 MB/s eta 0:00:01\r\u001b[K     |████████▍                       | 61 kB 10.2 MB/s eta 0:00:01\r\u001b[K     |█████████▊                      | 71 kB 10.0 MB/s eta 0:00:01\r\u001b[K     |███████████▏                    | 81 kB 11.0 MB/s eta 0:00:01\r\u001b[K     |████████████▌                   | 92 kB 9.7 MB/s eta 0:00:01\r\u001b[K     |██████████████                  | 102 kB 10.4 MB/s eta 0:00:01\r\u001b[K     |███████████████▎                | 112 kB 10.4 MB/s eta 0:00:01\r\u001b[K     |████████████████▊               | 122 kB 10.4 MB/s eta 0:00:01\r\u001b[K     |██████████████████              | 133 kB 10.4 MB/s eta 0:00:01\r\u001b[K     |███████████████████▌            | 143 kB 10.4 MB/s eta 0:00:01\r\u001b[K     |████████████████████▉           | 153 kB 10.4 MB/s eta 0:00:01\r\u001b[K     |██████████████████████▎         | 163 kB 10.4 MB/s eta 0:00:01\r\u001b[K     |███████████████████████▋        | 174 kB 10.4 MB/s eta 0:00:01\r\u001b[K     |█████████████████████████       | 184 kB 10.4 MB/s eta 0:00:01\r\u001b[K     |██████████████████████████▍     | 194 kB 10.4 MB/s eta 0:00:01\r\u001b[K     |███████████████████████████▉    | 204 kB 10.4 MB/s eta 0:00:01\r\u001b[K     |█████████████████████████████▏  | 215 kB 10.4 MB/s eta 0:00:01\r\u001b[K     |██████████████████████████████▋ | 225 kB 10.4 MB/s eta 0:00:01\r\u001b[K     |████████████████████████████████| 235 kB 10.4 MB/s eta 0:00:01\r\u001b[K     |████████████████████████████████| 235 kB 10.4 MB/s \n",
            "\u001b[?25hCollecting twython\n",
            "  Downloading twython-3.9.1-py3-none-any.whl (33 kB)\n",
            "Requirement already satisfied: tweepy in /usr/local/lib/python3.7/dist-packages (3.10.0)\n",
            "Requirement already satisfied: beautifulsoup4 in /usr/local/lib/python3.7/dist-packages (4.6.3)\n",
            "Collecting tika\n",
            "  Downloading tika-1.24.tar.gz (28 kB)\n",
            "Requirement already satisfied: requests>=2.1.0 in /usr/local/lib/python3.7/dist-packages (from twython) (2.23.0)\n",
            "Requirement already satisfied: requests-oauthlib>=0.4.0 in /usr/local/lib/python3.7/dist-packages (from twython) (1.3.0)\n",
            "Requirement already satisfied: chardet<4,>=3.0.2 in /usr/local/lib/python3.7/dist-packages (from requests>=2.1.0->twython) (3.0.4)\n",
            "Requirement already satisfied: urllib3!=1.25.0,!=1.25.1,<1.26,>=1.21.1 in /usr/local/lib/python3.7/dist-packages (from requests>=2.1.0->twython) (1.24.3)\n",
            "Requirement already satisfied: certifi>=2017.4.17 in /usr/local/lib/python3.7/dist-packages (from requests>=2.1.0->twython) (2021.5.30)\n",
            "Requirement already satisfied: idna<3,>=2.5 in /usr/local/lib/python3.7/dist-packages (from requests>=2.1.0->twython) (2.10)\n",
            "Requirement already satisfied: oauthlib>=3.0.0 in /usr/local/lib/python3.7/dist-packages (from requests-oauthlib>=0.4.0->twython) (3.1.1)\n",
            "Requirement already satisfied: six>=1.10.0 in /usr/local/lib/python3.7/dist-packages (from tweepy) (1.15.0)\n",
            "Requirement already satisfied: PySocks!=1.5.7,>=1.5.6 in /usr/local/lib/python3.7/dist-packages (from requests>=2.1.0->twython) (1.7.1)\n",
            "Requirement already satisfied: setuptools in /usr/local/lib/python3.7/dist-packages (from tika) (57.4.0)\n",
            "Building wheels for collected packages: tika\n",
            "  Building wheel for tika (setup.py) ... \u001b[?25l\u001b[?25hdone\n",
            "  Created wheel for tika: filename=tika-1.24-py3-none-any.whl size=32891 sha256=19b245915d4eac6ac9dfec9a2dd0cbf7b16a886fb726c4d6f59329563cac3feb\n",
            "  Stored in directory: /root/.cache/pip/wheels/ec/2b/38/58ff05467a742e32f67f5d0de048fa046e764e2fbb25ac93f3\n",
            "Successfully built tika\n",
            "Installing collected packages: unidecode, twython, tika\n",
            "Successfully installed tika-1.24 twython-3.9.1 unidecode-1.3.2\n"
          ]
        }
      ]
    },
    {
      "cell_type": "code",
      "metadata": {
        "id": "P1YHLs0GgPtw"
      },
      "source": [
        "import warnings; warnings.simplefilter('ignore')\n",
        "import tweepy, json, nltk, urllib.request, requests\n",
        "from urllib.request import Request, urlopen\n",
        "from twython import TwythonStreamer\n",
        "from bs4 import BeautifulSoup as bs\n",
        "import pandas as pd\n",
        "import os"
      ],
      "execution_count": null,
      "outputs": []
    },
    {
      "cell_type": "markdown",
      "metadata": {
        "id": "cIwrr-33LAxh"
      },
      "source": [
        "## Connect to Twitter API"
      ]
    },
    {
      "cell_type": "code",
      "metadata": {
        "id": "sYXhcD9BhWnz"
      },
      "source": [
        "Ck = '-' # consumer_key\n",
        "Cs = '-' # consumer_secret\n",
        "At = '-' # access_token\n",
        "As = '-' # access_secret"
      ],
      "execution_count": null,
      "outputs": []
    },
    {
      "cell_type": "code",
      "metadata": {
        "id": "pzK-Em8anj8Z"
      },
      "source": [
        "def twitter_connect(Ck, Cs, At, As, verbose = 0):\n",
        "    try:\n",
        "        auth = tweepy.OAuthHandler(Ck, Cs)\n",
        "        auth.set_access_token(At, As)\n",
        "        twitter = tweepy.API(auth, timeout=120)\n",
        "        if verbose != 0:\n",
        "            user = twitter.verify_credentials()\n",
        "            print('Welcome \"%s\" you are now connected to twitter server' %user.name)\n",
        "        return twitter\n",
        "    except:\n",
        "        print(\"Connection failed, please check your API keys or connection\")\n",
        "        return None"
      ],
      "execution_count": null,
      "outputs": []
    },
    {
      "cell_type": "code",
      "metadata": {
        "colab": {
          "base_uri": "https://localhost:8080/"
        },
        "id": "8czf6jLNrS8M",
        "outputId": "5dbf8b8b-7079-4353-f2de-c27eda251634"
      },
      "source": [
        "# Koneksi ke twitter\n",
        "twitter = twitter_connect(Ck, Cs, At, As, verbose = 1)"
      ],
      "execution_count": null,
      "outputs": [
        {
          "output_type": "stream",
          "name": "stdout",
          "text": [
            "Welcome \"ryanti\" you are now connected to twitter server\n"
          ]
        }
      ]
    },
    {
      "cell_type": "markdown",
      "metadata": {
        "id": "tj-Lh1N3fkIM"
      },
      "source": [
        "## Crawling Data\n",
        "Data akan diambil minimal sebanyak 30.000 tweet dengan kata kunci \"Anthony Sinisuka Ginting\", \"Ginting\", \"ThomasCup2021\" dan \"Badminton\" yang trending pada hari Jum'at, 15 Oktober 2021."
      ]
    },
    {
      "cell_type": "code",
      "metadata": {
        "id": "ss0Qyt9itIId",
        "colab": {
          "base_uri": "https://localhost:8080/"
        },
        "outputId": "50dcd236-99df-484b-f839-cb1a0bba0093"
      },
      "source": [
        "# Max 100 tweet per \"API call\"\n",
        "topic = 'Badminton'\n",
        "N = 100 # jumlah tweet yang ingin diambil\n",
        "bahasa = 'id'\n",
        "T = twitter.search(q=topic, lang=bahasa, count=N, tweet_mode = 'extended')\n",
        "data3 = [t._json for t in T]\n",
        "print(' Berhasil mendapatkan {} tweets'.format(len(data3)))"
      ],
      "execution_count": null,
      "outputs": [
        {
          "output_type": "stream",
          "name": "stdout",
          "text": [
            " Berhasil mendapatkan 100 tweets\n"
          ]
        }
      ]
    },
    {
      "cell_type": "code",
      "metadata": {
        "id": "zifOlkZgNawA"
      },
      "source": [
        "# Next data\n",
        "last_id = T[-1]._json['id'] - 1\n",
        "last_id\n",
        "T = twitter.search(q=topic, lang=bahasa, count=N, tweet_mode = 'extended', max_id=last_id)\n",
        "data3.extend([t._json for t in T])\n",
        "\n",
        "print('Jumlah data sekarang = ', len(data3))"
      ],
      "execution_count": null,
      "outputs": []
    },
    {
      "cell_type": "markdown",
      "metadata": {
        "id": "LfQZGgnqLInn"
      },
      "source": [
        "## Cek Data"
      ]
    },
    {
      "cell_type": "code",
      "metadata": {
        "id": "GKlp7VmMswzM",
        "colab": {
          "base_uri": "https://localhost:8080/"
        },
        "outputId": "a4297fd0-8f16-452a-8e07-c31c3d37a6cb"
      },
      "source": [
        "# Datanya berbentuk JSON\n",
        "tweets[0]['created_at'], tweets[0]['full_text']"
      ],
      "execution_count": null,
      "outputs": [
        {
          "output_type": "execute_result",
          "data": {
            "text/plain": [
              "('Fri Oct 15 13:02:16 +0000 2021',\n",
              " 'RT @BadmintonTalk: Quarter Finals\\nINA 1-0 MAS\\n\\nMS1: Anthony Sinisuka Ginting vs Lee Zii Jia\\n\\n21-15 21-17 \\n \\nYESSSSSSSSSSSSS MENANGGGGGGGGGG…')"
            ]
          },
          "metadata": {},
          "execution_count": 198
        }
      ]
    },
    {
      "cell_type": "code",
      "metadata": {
        "colab": {
          "base_uri": "https://localhost:8080/"
        },
        "id": "Lxnh2-GhT9tH",
        "outputId": "f98563ad-ddc6-4488-e370-66741f844f1c"
      },
      "source": [
        "tweets[17000]"
      ],
      "execution_count": null,
      "outputs": [
        {
          "output_type": "execute_result",
          "data": {
            "text/plain": [
              "{'contributors': None,\n",
              " 'coordinates': None,\n",
              " 'created_at': 'Fri Oct 15 08:30:49 +0000 2021',\n",
              " 'display_text_range': [12, 114],\n",
              " 'entities': {'hashtags': [],\n",
              "  'symbols': [],\n",
              "  'urls': [],\n",
              "  'user_mentions': [{'id': 132276059,\n",
              "    'id_str': '132276059',\n",
              "    'indices': [0, 11],\n",
              "    'name': 'A. Ainur Rohman',\n",
              "    'screen_name': 'ainurohman'}]},\n",
              " 'favorite_count': 10,\n",
              " 'favorited': False,\n",
              " 'full_text': '@ainurohman Ginting dan minions yuk main bar bar di awal, biar jojo, Fajri sama mas vito ketularan bar barnya juga',\n",
              " 'geo': None,\n",
              " 'id': 1448929342503800834,\n",
              " 'id_str': '1448929342503800834',\n",
              " 'in_reply_to_screen_name': 'ainurohman',\n",
              " 'in_reply_to_status_id': 1448922737028648961,\n",
              " 'in_reply_to_status_id_str': '1448922737028648961',\n",
              " 'in_reply_to_user_id': 132276059,\n",
              " 'in_reply_to_user_id_str': '132276059',\n",
              " 'is_quote_status': False,\n",
              " 'lang': 'in',\n",
              " 'metadata': {'iso_language_code': 'in', 'result_type': 'recent'},\n",
              " 'place': None,\n",
              " 'retweet_count': 0,\n",
              " 'retweeted': False,\n",
              " 'source': '<a href=\"http://twitter.com/download/android\" rel=\"nofollow\">Twitter for Android</a>',\n",
              " 'truncated': False,\n",
              " 'user': {'contributors_enabled': False,\n",
              "  'created_at': 'Wed Apr 20 08:25:41 +0000 2011',\n",
              "  'default_profile': False,\n",
              "  'default_profile_image': False,\n",
              "  'description': 'Welcome to my playground \\U0001f90d💚',\n",
              "  'entities': {'description': {'urls': []}},\n",
              "  'favourites_count': 1923,\n",
              "  'follow_request_sent': False,\n",
              "  'followers_count': 666,\n",
              "  'following': False,\n",
              "  'friends_count': 516,\n",
              "  'geo_enabled': True,\n",
              "  'has_extended_profile': True,\n",
              "  'id': 284958811,\n",
              "  'id_str': '284958811',\n",
              "  'is_translation_enabled': False,\n",
              "  'is_translator': False,\n",
              "  'lang': None,\n",
              "  'listed_count': 1,\n",
              "  'location': 'Jakarta Barat',\n",
              "  'name': 'Mel🐧',\n",
              "  'notifications': False,\n",
              "  'profile_background_color': 'FF6699',\n",
              "  'profile_background_image_url': 'http://abs.twimg.com/images/themes/theme11/bg.gif',\n",
              "  'profile_background_image_url_https': 'https://abs.twimg.com/images/themes/theme11/bg.gif',\n",
              "  'profile_background_tile': True,\n",
              "  'profile_banner_url': 'https://pbs.twimg.com/profile_banners/284958811/1630293006',\n",
              "  'profile_image_url': 'http://pbs.twimg.com/profile_images/1432178831230603265/fXjTG1D__normal.jpg',\n",
              "  'profile_image_url_https': 'https://pbs.twimg.com/profile_images/1432178831230603265/fXjTG1D__normal.jpg',\n",
              "  'profile_link_color': 'B40B43',\n",
              "  'profile_sidebar_border_color': 'CC3366',\n",
              "  'profile_sidebar_fill_color': 'E5507E',\n",
              "  'profile_text_color': '362720',\n",
              "  'profile_use_background_image': True,\n",
              "  'protected': False,\n",
              "  'screen_name': 'melanierachman9',\n",
              "  'statuses_count': 30125,\n",
              "  'time_zone': None,\n",
              "  'translator_type': 'none',\n",
              "  'url': None,\n",
              "  'utc_offset': None,\n",
              "  'verified': False,\n",
              "  'withheld_in_countries': []}}"
            ]
          },
          "metadata": {},
          "execution_count": 201
        }
      ]
    },
    {
      "cell_type": "code",
      "metadata": {
        "id": "aWzrwoMsUrBM",
        "colab": {
          "base_uri": "https://localhost:8080/"
        },
        "outputId": "ffa6ab49-dd22-4857-cad9-9dd8d9fb08f2"
      },
      "source": [
        "print('tweet pertama oleh \"{}\" : \"{}\"'.format(tweets[3]['user']['screen_name'],tweets[0]['full_text']))"
      ],
      "execution_count": null,
      "outputs": [
        {
          "output_type": "stream",
          "name": "stdout",
          "text": [
            "tweet pertama oleh \"athorumbo\" : \"Jadi, Siaga Jiwa Raga menjadi sangat penting di era pandemi Corona Virus Desease (Covid-19) sekarang ini\n",
            "#SantriSiagaJiwaRaga\n",
            "Logo Hari Santri 2021 https://t.co/PUDpHiawnH\"\n"
          ]
        }
      ]
    },
    {
      "cell_type": "code",
      "metadata": {
        "id": "DtTxZuxrhK2b",
        "colab": {
          "base_uri": "https://localhost:8080/"
        },
        "outputId": "46ac674a-fe71-48f9-d95c-a462a9222650"
      },
      "source": [
        "def saveTweets(data3, file='Tweets_bad.json'): #in Json Format\n",
        "    with open(file, 'w') as f:\n",
        "        for t in data3:\n",
        "            try:\n",
        "                f.write(json.dumps(t)+'\\n')\n",
        "            except:\n",
        "                pass\n",
        "              \n",
        "# Menyimpan hasil crawling twitter\n",
        "fileName = '/content/drive/MyDrive/Colab Notebooks/badminton.json'\n",
        "saveTweets(data3,file=fileName)\n",
        "print('Saved to '+fileName)"
      ],
      "execution_count": null,
      "outputs": [
        {
          "output_type": "stream",
          "name": "stdout",
          "text": [
            "Saved to /content/drive/MyDrive/Colab Notebooks/badminton.json\n"
          ]
        }
      ]
    },
    {
      "cell_type": "code",
      "metadata": {
        "colab": {
          "base_uri": "https://localhost:8080/"
        },
        "id": "_IzIzsgGZQJR",
        "outputId": "15017a45-a564-4df3-fc1e-534e3af83ffd"
      },
      "source": [
        "def loadTweets(file='Tweets_bad.json'):\n",
        "    f=open(file,encoding='utf-8', errors ='ignore', mode='r')\n",
        "    T=f.readlines();f.close()\n",
        "    for i,t in enumerate(T):\n",
        "        T[i] = json.loads(t.strip())\n",
        "    return T\n",
        "\n",
        "# Me-load kembali jika (misal) analisa ingin dilakukan di lain waktu\n",
        "# Sengaja nama variabelnya saya bedakan (T2)\n",
        "T2 = loadTweets(file='/content/drive/MyDrive/Colab Notebooks/badminton.json')\n",
        "print('tweet pertama oleh \"{}\" : \"{}\"'.format(T2[0]['user']['screen_name'],T2[0]['full_text']))"
      ],
      "execution_count": null,
      "outputs": [
        {
          "output_type": "stream",
          "name": "stdout",
          "text": [
            "tweet pertama oleh \"melourip\" : \"Penat aku tengok badminton\"\n"
          ]
        }
      ]
    },
    {
      "cell_type": "code",
      "metadata": {
        "colab": {
          "base_uri": "https://localhost:8080/"
        },
        "id": "mvFnFgxQZmaw",
        "outputId": "eb46fcc5-48f6-43cf-98b5-652722af7358"
      },
      "source": [
        "T2[8]"
      ],
      "execution_count": null,
      "outputs": [
        {
          "output_type": "execute_result",
          "data": {
            "text/plain": [
              "{'contributors': None,\n",
              " 'coordinates': None,\n",
              " 'created_at': 'Fri Oct 15 13:33:54 +0000 2021',\n",
              " 'display_text_range': [0, 140],\n",
              " 'entities': {'hashtags': [],\n",
              "  'symbols': [],\n",
              "  'urls': [],\n",
              "  'user_mentions': [{'id': 1013242098697494528,\n",
              "    'id_str': '1013242098697494528',\n",
              "    'indices': [3, 15],\n",
              "    'name': 'farisha',\n",
              "    'screen_name': 'FarishaChaa'}]},\n",
              " 'favorite_count': 0,\n",
              " 'favorited': False,\n",
              " 'full_text': 'RT @FarishaChaa: Member sedap makan dekat foodcourt sambil layan orang main badminton ttbe surat sampai dari gf orang....🙃 https://t.co/LJv…',\n",
              " 'geo': None,\n",
              " 'id': 1449005616421240835,\n",
              " 'id_str': '1449005616421240835',\n",
              " 'in_reply_to_screen_name': None,\n",
              " 'in_reply_to_status_id': None,\n",
              " 'in_reply_to_status_id_str': None,\n",
              " 'in_reply_to_user_id': None,\n",
              " 'in_reply_to_user_id_str': None,\n",
              " 'is_quote_status': False,\n",
              " 'lang': 'in',\n",
              " 'metadata': {'iso_language_code': 'in', 'result_type': 'recent'},\n",
              " 'place': None,\n",
              " 'retweet_count': 230,\n",
              " 'retweeted': False,\n",
              " 'retweeted_status': {'contributors': None,\n",
              "  'coordinates': None,\n",
              "  'created_at': 'Fri Oct 15 10:59:30 +0000 2021',\n",
              "  'display_text_range': [0, 105],\n",
              "  'entities': {'hashtags': [],\n",
              "   'media': [{'display_url': 'pic.twitter.com/LJvon9Q0YE',\n",
              "     'expanded_url': 'https://twitter.com/FarishaChaa/status/1448966760485425153/photo/1',\n",
              "     'id': 1448966755368386563,\n",
              "     'id_str': '1448966755368386563',\n",
              "     'indices': [106, 129],\n",
              "     'media_url': 'http://pbs.twimg.com/media/FBvDlkkVQAM61-n.jpg',\n",
              "     'media_url_https': 'https://pbs.twimg.com/media/FBvDlkkVQAM61-n.jpg',\n",
              "     'sizes': {'large': {'h': 2048, 'resize': 'fit', 'w': 1536},\n",
              "      'medium': {'h': 1200, 'resize': 'fit', 'w': 900},\n",
              "      'small': {'h': 680, 'resize': 'fit', 'w': 510},\n",
              "      'thumb': {'h': 150, 'resize': 'crop', 'w': 150}},\n",
              "     'type': 'photo',\n",
              "     'url': 'https://t.co/LJvon9Q0YE'}],\n",
              "   'symbols': [],\n",
              "   'urls': [],\n",
              "   'user_mentions': []},\n",
              "  'extended_entities': {'media': [{'display_url': 'pic.twitter.com/LJvon9Q0YE',\n",
              "     'expanded_url': 'https://twitter.com/FarishaChaa/status/1448966760485425153/photo/1',\n",
              "     'id': 1448966755368386563,\n",
              "     'id_str': '1448966755368386563',\n",
              "     'indices': [106, 129],\n",
              "     'media_url': 'http://pbs.twimg.com/media/FBvDlkkVQAM61-n.jpg',\n",
              "     'media_url_https': 'https://pbs.twimg.com/media/FBvDlkkVQAM61-n.jpg',\n",
              "     'sizes': {'large': {'h': 2048, 'resize': 'fit', 'w': 1536},\n",
              "      'medium': {'h': 1200, 'resize': 'fit', 'w': 900},\n",
              "      'small': {'h': 680, 'resize': 'fit', 'w': 510},\n",
              "      'thumb': {'h': 150, 'resize': 'crop', 'w': 150}},\n",
              "     'type': 'photo',\n",
              "     'url': 'https://t.co/LJvon9Q0YE'},\n",
              "    {'display_url': 'pic.twitter.com/LJvon9Q0YE',\n",
              "     'expanded_url': 'https://twitter.com/FarishaChaa/status/1448966760485425153/photo/1',\n",
              "     'id': 1448966755666202630,\n",
              "     'id_str': '1448966755666202630',\n",
              "     'indices': [106, 129],\n",
              "     'media_url': 'http://pbs.twimg.com/media/FBvDllrVkAY-trj.jpg',\n",
              "     'media_url_https': 'https://pbs.twimg.com/media/FBvDllrVkAY-trj.jpg',\n",
              "     'sizes': {'large': {'h': 2048, 'resize': 'fit', 'w': 1536},\n",
              "      'medium': {'h': 1200, 'resize': 'fit', 'w': 900},\n",
              "      'small': {'h': 680, 'resize': 'fit', 'w': 510},\n",
              "      'thumb': {'h': 150, 'resize': 'crop', 'w': 150}},\n",
              "     'type': 'photo',\n",
              "     'url': 'https://t.co/LJvon9Q0YE'}]},\n",
              "  'favorite_count': 598,\n",
              "  'favorited': False,\n",
              "  'full_text': 'Member sedap makan dekat foodcourt sambil layan orang main badminton ttbe surat sampai dari gf orang....🙃 https://t.co/LJvon9Q0YE',\n",
              "  'geo': None,\n",
              "  'id': 1448966760485425153,\n",
              "  'id_str': '1448966760485425153',\n",
              "  'in_reply_to_screen_name': None,\n",
              "  'in_reply_to_status_id': None,\n",
              "  'in_reply_to_status_id_str': None,\n",
              "  'in_reply_to_user_id': None,\n",
              "  'in_reply_to_user_id_str': None,\n",
              "  'is_quote_status': False,\n",
              "  'lang': 'in',\n",
              "  'metadata': {'iso_language_code': 'in', 'result_type': 'recent'},\n",
              "  'place': None,\n",
              "  'possibly_sensitive': False,\n",
              "  'retweet_count': 230,\n",
              "  'retweeted': False,\n",
              "  'source': '<a href=\"http://twitter.com/download/iphone\" rel=\"nofollow\">Twitter for iPhone</a>',\n",
              "  'truncated': False,\n",
              "  'user': {'contributors_enabled': False,\n",
              "   'created_at': 'Sun Jul 01 02:05:16 +0000 2018',\n",
              "   'default_profile': True,\n",
              "   'default_profile_image': False,\n",
              "   'description': 'kosong.',\n",
              "   'entities': {'description': {'urls': []},\n",
              "    'url': {'urls': [{'display_url': 'instagram.com/farishaaljamal…',\n",
              "       'expanded_url': 'https://instagram.com/farishaaljamalulail?utm_medium=copy_link',\n",
              "       'indices': [0, 23],\n",
              "       'url': 'https://t.co/VBVE5qgGo1'}]}},\n",
              "   'favourites_count': 4572,\n",
              "   'follow_request_sent': False,\n",
              "   'followers_count': 10193,\n",
              "   'following': False,\n",
              "   'friends_count': 256,\n",
              "   'geo_enabled': True,\n",
              "   'has_extended_profile': True,\n",
              "   'id': 1013242098697494528,\n",
              "   'id_str': '1013242098697494528',\n",
              "   'is_translation_enabled': False,\n",
              "   'is_translator': False,\n",
              "   'lang': None,\n",
              "   'listed_count': 3,\n",
              "   'location': 'Keliling orang',\n",
              "   'name': 'farisha',\n",
              "   'notifications': False,\n",
              "   'profile_background_color': 'F5F8FA',\n",
              "   'profile_background_image_url': None,\n",
              "   'profile_background_image_url_https': None,\n",
              "   'profile_background_tile': False,\n",
              "   'profile_banner_url': 'https://pbs.twimg.com/profile_banners/1013242098697494528/1632065892',\n",
              "   'profile_image_url': 'http://pbs.twimg.com/profile_images/1445205534173323271/_gHrOhqB_normal.jpg',\n",
              "   'profile_image_url_https': 'https://pbs.twimg.com/profile_images/1445205534173323271/_gHrOhqB_normal.jpg',\n",
              "   'profile_link_color': '1DA1F2',\n",
              "   'profile_sidebar_border_color': 'C0DEED',\n",
              "   'profile_sidebar_fill_color': 'DDEEF6',\n",
              "   'profile_text_color': '333333',\n",
              "   'profile_use_background_image': True,\n",
              "   'protected': False,\n",
              "   'screen_name': 'FarishaChaa',\n",
              "   'statuses_count': 19057,\n",
              "   'time_zone': None,\n",
              "   'translator_type': 'none',\n",
              "   'url': 'https://t.co/VBVE5qgGo1',\n",
              "   'utc_offset': None,\n",
              "   'verified': False,\n",
              "   'withheld_in_countries': []}},\n",
              " 'source': '<a href=\"http://twitter.com/download/iphone\" rel=\"nofollow\">Twitter for iPhone</a>',\n",
              " 'truncated': False,\n",
              " 'user': {'contributors_enabled': False,\n",
              "  'created_at': 'Mon Nov 09 10:14:39 +0000 2020',\n",
              "  'default_profile': True,\n",
              "  'default_profile_image': False,\n",
              "  'description': 'soft hearted with anger issues',\n",
              "  'entities': {'description': {'urls': []}},\n",
              "  'favourites_count': 49708,\n",
              "  'follow_request_sent': False,\n",
              "  'followers_count': 111,\n",
              "  'following': False,\n",
              "  'friends_count': 340,\n",
              "  'geo_enabled': False,\n",
              "  'has_extended_profile': True,\n",
              "  'id': 1325743549061586945,\n",
              "  'id_str': '1325743549061586945',\n",
              "  'is_translation_enabled': False,\n",
              "  'is_translator': False,\n",
              "  'lang': None,\n",
              "  'listed_count': 0,\n",
              "  'location': 'Malaysia',\n",
              "  'name': 'puterissii',\n",
              "  'notifications': False,\n",
              "  'profile_background_color': 'F5F8FA',\n",
              "  'profile_background_image_url': None,\n",
              "  'profile_background_image_url_https': None,\n",
              "  'profile_background_tile': False,\n",
              "  'profile_banner_url': 'https://pbs.twimg.com/profile_banners/1325743549061586945/1621591661',\n",
              "  'profile_image_url': 'http://pbs.twimg.com/profile_images/1440803437231292422/KxTWxucR_normal.jpg',\n",
              "  'profile_image_url_https': 'https://pbs.twimg.com/profile_images/1440803437231292422/KxTWxucR_normal.jpg',\n",
              "  'profile_link_color': '1DA1F2',\n",
              "  'profile_sidebar_border_color': 'C0DEED',\n",
              "  'profile_sidebar_fill_color': 'DDEEF6',\n",
              "  'profile_text_color': '333333',\n",
              "  'profile_use_background_image': True,\n",
              "  'protected': False,\n",
              "  'screen_name': 'ykwhy3',\n",
              "  'statuses_count': 13800,\n",
              "  'time_zone': None,\n",
              "  'translator_type': 'none',\n",
              "  'url': None,\n",
              "  'utc_offset': None,\n",
              "  'verified': False,\n",
              "  'withheld_in_countries': []}}"
            ]
          },
          "metadata": {},
          "execution_count": 461
        }
      ]
    }
  ]
}